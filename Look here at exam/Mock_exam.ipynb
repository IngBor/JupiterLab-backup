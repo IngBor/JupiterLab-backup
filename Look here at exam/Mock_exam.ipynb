{
 "cells": [
  {
   "cell_type": "code",
   "execution_count": null,
   "metadata": {},
   "outputs": [],
   "source": []
  },
  {
   "cell_type": "code",
   "execution_count": 87,
   "metadata": {},
   "outputs": [],
   "source": [
    "import numpy as np\n",
    "from cobra.io import read_sbml_model\n",
    "from cobra import Reaction, Metabolite\n",
    "from cobra.util import create_stoichiometric_matrix\n"
   ]
  },
  {
   "cell_type": "code",
   "execution_count": 88,
   "metadata": {},
   "outputs": [],
   "source": [
    "model = read_sbml_model(\"e_coli_core.xml\")\n",
    "medium = model.medium\n",
    "del(medium[\"EX_co2_e\"])\n",
    "model.medium = medium"
   ]
  },
  {
   "cell_type": "code",
   "execution_count": 94,
   "metadata": {},
   "outputs": [
    {
     "name": "stdout",
     "output_type": "stream",
     "text": [
      "5.064375661482087\n"
     ]
    }
   ],
   "source": [
    "solution = model.optimize()\n",
    "fum_flux = solution.fluxes['FUM']\n",
    "print(fum_flux)"
   ]
  },
  {
   "cell_type": "code",
   "execution_count": 95,
   "metadata": {},
   "outputs": [
    {
     "name": "stdout",
     "output_type": "stream",
     "text": [
      "FUM: fum_c + h2o_c <=> mal__L_c\n",
      "FUMt2_2: fum_e + 2.0 h_e --> fum_c + 2.0 h_c\n"
     ]
    }
   ],
   "source": [
    "for reaction in model.reactions.query('FUM', 'id'):\n",
    "    print(reaction)"
   ]
  },
  {
   "cell_type": "code",
   "execution_count": 89,
   "metadata": {},
   "outputs": [
    {
     "name": "stdout",
     "output_type": "stream",
     "text": [
      "0.0\n"
     ]
    }
   ],
   "source": [
    "with model:\n",
    "    model.objective = model.reactions.EX_ac_e\n",
    "    print(model.optimize().objective_value)"
   ]
  },
  {
   "cell_type": "code",
   "execution_count": 90,
   "metadata": {},
   "outputs": [
    {
     "name": "stdout",
     "output_type": "stream",
     "text": [
      "EX_ac_e 1.8644444444444446\n",
      "EX_acald_e 0.0\n",
      "EX_akg_e 0.0\n",
      "EX_co2_e 1.8644444444444446\n",
      "EX_etoh_e 0.0\n",
      "EX_for_e 0.0\n",
      "EX_fru_e 0.0\n",
      "EX_fum_e 0.0\n",
      "EX_glc__D_e -0.9322222222222223\n",
      "EX_gln__L_e 0.0\n",
      "EX_glu__L_e 0.0\n",
      "EX_h_e 1.864444444444444\n",
      "EX_h2o_e 1.8644444444444448\n",
      "EX_lac__D_e 0.0\n",
      "EX_mal__L_e 0.0\n",
      "EX_nh4_e 0.0\n",
      "EX_o2_e -1.864444444444445\n",
      "EX_pi_e 0.0\n",
      "EX_pyr_e 0.0\n",
      "EX_succ_e 0.0\n"
     ]
    }
   ],
   "source": [
    "for reaction in model.reactions.query('EX', 'id'):\n",
    "    print(reaction.id, reaction.flux)"
   ]
  },
  {
   "cell_type": "code",
   "execution_count": 53,
   "metadata": {},
   "outputs": [
    {
     "name": "stdout",
     "output_type": "stream",
     "text": [
      "EX_fum_e: fum_e --> \n"
     ]
    }
   ],
   "source": [
    "for reaction in model.reactions.query('fum', 'id'):\n",
    "    print(reaction)"
   ]
  },
  {
   "cell_type": "code",
   "execution_count": 73,
   "metadata": {},
   "outputs": [
    {
     "data": {
      "text/html": [
       "<h3>Objective</h3><p>1.0 BIOMASS_Ecoli_core_w_GAM = 0.8739215069684331</p><h4>Uptake</h4><table border=\"1\" class=\"dataframe\">\n",
       "  <thead>\n",
       "    <tr style=\"text-align: right;\">\n",
       "      <th>Metabolite</th>\n",
       "      <th>Reaction</th>\n",
       "      <th>Flux</th>\n",
       "      <th>C-Number</th>\n",
       "      <th>C-Flux</th>\n",
       "    </tr>\n",
       "  </thead>\n",
       "  <tbody>\n",
       "    <tr>\n",
       "      <td>glc__D_e</td>\n",
       "      <td>EX_glc__D_e</td>\n",
       "      <td>10</td>\n",
       "      <td>6</td>\n",
       "      <td>100.00%</td>\n",
       "    </tr>\n",
       "    <tr>\n",
       "      <td>nh4_e</td>\n",
       "      <td>EX_nh4_e</td>\n",
       "      <td>4.765</td>\n",
       "      <td>0</td>\n",
       "      <td>0.00%</td>\n",
       "    </tr>\n",
       "    <tr>\n",
       "      <td>o2_e</td>\n",
       "      <td>EX_o2_e</td>\n",
       "      <td>21.8</td>\n",
       "      <td>0</td>\n",
       "      <td>0.00%</td>\n",
       "    </tr>\n",
       "    <tr>\n",
       "      <td>pi_e</td>\n",
       "      <td>EX_pi_e</td>\n",
       "      <td>3.215</td>\n",
       "      <td>0</td>\n",
       "      <td>0.00%</td>\n",
       "    </tr>\n",
       "  </tbody>\n",
       "</table><h4>Secretion</h4><table border=\"1\" class=\"dataframe\">\n",
       "  <thead>\n",
       "    <tr style=\"text-align: right;\">\n",
       "      <th>Metabolite</th>\n",
       "      <th>Reaction</th>\n",
       "      <th>Flux</th>\n",
       "      <th>C-Number</th>\n",
       "      <th>C-Flux</th>\n",
       "    </tr>\n",
       "  </thead>\n",
       "  <tbody>\n",
       "    <tr>\n",
       "      <td>co2_e</td>\n",
       "      <td>EX_co2_e</td>\n",
       "      <td>-22.81</td>\n",
       "      <td>1</td>\n",
       "      <td>100.00%</td>\n",
       "    </tr>\n",
       "    <tr>\n",
       "      <td>h2o_e</td>\n",
       "      <td>EX_h2o_e</td>\n",
       "      <td>-29.18</td>\n",
       "      <td>0</td>\n",
       "      <td>0.00%</td>\n",
       "    </tr>\n",
       "    <tr>\n",
       "      <td>h_e</td>\n",
       "      <td>EX_h_e</td>\n",
       "      <td>-17.53</td>\n",
       "      <td>0</td>\n",
       "      <td>0.00%</td>\n",
       "    </tr>\n",
       "  </tbody>\n",
       "</table>"
      ],
      "text/plain": [
       "<cobra.summary.model_summary.ModelSummary at 0x7f208739e4f0>"
      ]
     },
     "execution_count": 73,
     "metadata": {},
     "output_type": "execute_result"
    }
   ],
   "source": [
    "model.summary()"
   ]
  },
  {
   "cell_type": "code",
   "execution_count": 55,
   "metadata": {},
   "outputs": [
    {
     "name": "stdout",
     "output_type": "stream",
     "text": [
      "Maximize\n",
      "1.0*BIOMASS_Ecoli_core_w_GAM - 1.0*BIOMASS_Ecoli_core_w_GAM_reverse_712e5\n"
     ]
    }
   ],
   "source": [
    "print(model.objective)"
   ]
  },
  {
   "cell_type": "code",
   "execution_count": 56,
   "metadata": {},
   "outputs": [
    {
     "data": {
      "text/plain": [
       "0.8739215069684307"
      ]
     },
     "execution_count": 56,
     "metadata": {},
     "output_type": "execute_result"
    }
   ],
   "source": [
    "model.optimize().objective_value"
   ]
  },
  {
   "cell_type": "code",
   "execution_count": 59,
   "metadata": {},
   "outputs": [
    {
     "data": {
      "text/plain": [
       "0.8739215069684307"
      ]
     },
     "execution_count": 59,
     "metadata": {},
     "output_type": "execute_result"
    }
   ],
   "source": [
    "model.reactions.BIOMASS_Ecoli_core_w_GAM.flux"
   ]
  },
  {
   "cell_type": "code",
   "execution_count": 60,
   "metadata": {},
   "outputs": [
    {
     "data": {
      "text/plain": [
       "0.0"
      ]
     },
     "execution_count": 60,
     "metadata": {},
     "output_type": "execute_result"
    }
   ],
   "source": [
    "model.reactions.EX_ac_e.flux"
   ]
  },
  {
   "cell_type": "code",
   "execution_count": 77,
   "metadata": {},
   "outputs": [
    {
     "name": "stdout",
     "output_type": "stream",
     "text": [
      "EX_ac_e -1.2308594016704104e-13\n",
      "EX_acald_e 0.0\n",
      "EX_akg_e 0.0\n",
      "EX_co2_e 22.80983331020509\n",
      "EX_etoh_e 0.0\n",
      "EX_for_e 0.0\n",
      "EX_fru_e 0.0\n",
      "EX_fum_e 0.0\n",
      "EX_glc__D_e -10.0\n",
      "EX_gln__L_e 0.0\n",
      "EX_glu__L_e 0.0\n",
      "EX_h_e 17.530865429786573\n",
      "EX_h2o_e 29.17582713556592\n",
      "EX_lac__D_e 0.0\n",
      "EX_mal__L_e 0.0\n",
      "EX_nh4_e -4.765319193197471\n",
      "EX_o2_e -21.799492655998872\n",
      "EX_pi_e -3.2148950476847706\n",
      "EX_pyr_e 0.0\n",
      "EX_succ_e 0.0\n"
     ]
    }
   ],
   "source": [
    "for reaction in model.reactions.query('EX', 'id'):\n",
    "    print(reaction.id, reaction.flux)"
   ]
  },
  {
   "cell_type": "code",
   "execution_count": 64,
   "metadata": {},
   "outputs": [],
   "source": [
    "optimal_growth = model.optimize().objective_value\n"
   ]
  },
  {
   "cell_type": "code",
   "execution_count": 66,
   "metadata": {},
   "outputs": [
    {
     "name": "stdout",
     "output_type": "stream",
     "text": [
      "20.00000000000018\n",
      "20.00000000000018\n",
      "0.0\n",
      "20.00000000000018\n",
      "0.0\n"
     ]
    }
   ],
   "source": [
    "with model:\n",
    "    model.objective = model.reactions.EX_ac_e\n",
    "    solution = model.optimize()\n",
    "    optimal_growth = solution.objective_value\n",
    "    print(optimal_growth)\n",
    "    print(model.reactions.EX_ac_e.flux)\n",
    "    print(model.reactions.BIOMASS_Ecoli_core_w_GAM.flux)\n",
    "    model.reactions.BIOMASS_Ecoli_core_w_GAM.lower_bound = optimal_growth\n",
    "    print(model.reactions.EX_ac_e.flux)\n",
    "    print(model.reactions.BIOMASS_Ecoli_core_w_GAM.flux)"
   ]
  },
  {
   "cell_type": "code",
   "execution_count": 72,
   "metadata": {},
   "outputs": [
    {
     "name": "stdout",
     "output_type": "stream",
     "text": [
      "0.0\n"
     ]
    }
   ],
   "source": [
    "optimal_growth = model.optimize().objective_value\n",
    "with model:\n",
    "    model.objective = model.reactions.EX_fum_e\n",
    "    model.reactions.BIOMASS_Ecoli_core_w_GAM.lower_bound = optimal_growth*0.2\n",
    "    production_FUM_optimal_growth = model.optimize().objective_value\n",
    "    print(production_FUM_optimal_growth)\n"
   ]
  },
  {
   "cell_type": "code",
   "execution_count": 21,
   "metadata": {},
   "outputs": [
    {
     "data": {
      "text/plain": [
       "0.0"
      ]
     },
     "execution_count": 21,
     "metadata": {},
     "output_type": "execute_result"
    }
   ],
   "source": [
    "FUM_ref_flux = solution.fluxes.EX_fum_e\n",
    "FUM_ref_flux"
   ]
  },
  {
   "cell_type": "code",
   "execution_count": 23,
   "metadata": {},
   "outputs": [
    {
     "data": {
      "text/plain": [
       "ACONTa                      6.007250e+00\n",
       "ACONTb                      6.007250e+00\n",
       "AKGDH                       5.064376e+00\n",
       "ATPM                        8.390000e+00\n",
       "ATPS4r                      4.551401e+01\n",
       "BIOMASS_Ecoli_core_w_GAM    8.739215e-01\n",
       "CO2t                       -2.280983e+01\n",
       "CS                          6.007250e+00\n",
       "CYTBD                       4.359899e+01\n",
       "ENO                         1.471614e+01\n",
       "EX_co2_e                    2.280983e+01\n",
       "EX_glc__D_e                -1.000000e+01\n",
       "EX_h_e                      1.753087e+01\n",
       "EX_h2o_e                    2.917583e+01\n",
       "EX_nh4_e                   -4.765319e+00\n",
       "EX_o2_e                    -2.179949e+01\n",
       "EX_pi_e                    -3.214895e+00\n",
       "FBA                         7.477382e+00\n",
       "FUM                         5.064376e+00\n",
       "G6PDH2r                     4.959985e+00\n",
       "GAPD                        1.602353e+01\n",
       "GLCpts                      1.000000e+01\n",
       "GLNS                        2.234617e-01\n",
       "GLNabc                      2.722410e-16\n",
       "GLUDy                      -4.541857e+00\n",
       "GND                         4.959985e+00\n",
       "H2Ot                       -2.917583e+01\n",
       "ICDHyr                      6.007250e+00\n",
       "MDH                         5.064376e+00\n",
       "NADH16                      3.853461e+01\n",
       "NH4t                        4.765319e+00\n",
       "O2t                         2.179949e+01\n",
       "PDH                         9.282533e+00\n",
       "PFK                         7.477382e+00\n",
       "PGI                         4.860861e+00\n",
       "PGK                        -1.602353e+01\n",
       "PGL                         4.959985e+00\n",
       "PGM                        -1.471614e+01\n",
       "PIt2r                       3.214895e+00\n",
       "PPC                         2.504309e+00\n",
       "PYK                         1.758177e+00\n",
       "RPE                         2.678482e+00\n",
       "RPI                        -2.281503e+00\n",
       "SUCDi                       5.064376e+00\n",
       "SUCOAS                     -5.064376e+00\n",
       "TALA                        1.496984e+00\n",
       "TKT1                        1.496984e+00\n",
       "TKT2                        1.181498e+00\n",
       "TPI                         7.477382e+00\n",
       "Name: fluxes, dtype: float64"
      ]
     },
     "execution_count": 23,
     "metadata": {},
     "output_type": "execute_result"
    }
   ],
   "source": [
    "solution.fluxes[solution.fluxes != 0.]"
   ]
  },
  {
   "cell_type": "code",
   "execution_count": 149,
   "metadata": {},
   "outputs": [],
   "source": [
    "model = read_sbml_model(\"e_coli_core.xml\")\n",
    "medium = model.medium\n",
    "del(medium[\"EX_co2_e\"])\n",
    "model.medium = medium"
   ]
  },
  {
   "cell_type": "code",
   "execution_count": 150,
   "metadata": {},
   "outputs": [
    {
     "data": {
      "text/plain": [
       "0.8739215069684307"
      ]
     },
     "execution_count": 150,
     "metadata": {},
     "output_type": "execute_result"
    }
   ],
   "source": [
    "solution = model.optimize()\n",
    "max_growth = model.reactions.BIOMASS_Ecoli_core_w_GAM.flux\n",
    "max_growth"
   ]
  },
  {
   "cell_type": "code",
   "execution_count": 194,
   "metadata": {},
   "outputs": [
    {
     "name": "stdout",
     "output_type": "stream",
     "text": [
      "{'b2779', 'b1136', 'b2926', 'b2416', 'b0720', 'b1779', 'b2415'}\n"
     ]
    }
   ],
   "source": [
    "glc_essentiality = set()\n",
    "for gene in model.genes:\n",
    "    with model:\n",
    "        gene.knock_out()\n",
    "        mutant_growth = model.slim_optimize(error_value=0.)\n",
    "        if  mutant_growth <  0.05:\n",
    "            glc_essentiality.add(gene.id)\n",
    "print(glc_essentiality)"
   ]
  },
  {
   "cell_type": "code",
   "execution_count": 195,
   "metadata": {},
   "outputs": [
    {
     "data": {
      "text/plain": [
       "7"
      ]
     },
     "execution_count": 195,
     "metadata": {},
     "output_type": "execute_result"
    }
   ],
   "source": [
    "len(glc_essentiality)"
   ]
  },
  {
   "cell_type": "code",
   "execution_count": 196,
   "metadata": {},
   "outputs": [
    {
     "data": {
      "text/plain": [
       "{'b0720', 'b1136', 'b1779', 'b2415', 'b2416', 'b2779', 'b2926'}"
      ]
     },
     "execution_count": 196,
     "metadata": {},
     "output_type": "execute_result"
    }
   ],
   "source": [
    "glc_essentiality"
   ]
  },
  {
   "cell_type": "code",
   "execution_count": 207,
   "metadata": {},
   "outputs": [],
   "source": [
    "ac_essentiality = set()\n",
    "medium = model.medium\n",
    "with model:\n",
    "    medium[\"EX_glc__D_e\"] = 0\n",
    "    medium[\"EX_ac_e\"] = 10\n",
    "    model.medium = medium\n",
    "    for gene in model.genes:\n",
    "        with model:\n",
    "            gene.knock_out()\n",
    "            mutant_growth = model.slim_optimize(error_value=0.)\n",
    "            if  mutant_growth <  0.05:\n",
    "                ac_essentiality.add(gene.id)"
   ]
  },
  {
   "cell_type": "code",
   "execution_count": 208,
   "metadata": {},
   "outputs": [
    {
     "data": {
      "text/plain": [
       "34"
      ]
     },
     "execution_count": 208,
     "metadata": {},
     "output_type": "execute_result"
    }
   ],
   "source": [
    "len(ac_essentiality)"
   ]
  },
  {
   "cell_type": "code",
   "execution_count": 209,
   "metadata": {},
   "outputs": [
    {
     "data": {
      "text/plain": [
       "{'b0720',\n",
       " 'b0721',\n",
       " 'b0722',\n",
       " 'b0723',\n",
       " 'b0724',\n",
       " 'b1136',\n",
       " 'b1779',\n",
       " 'b2276',\n",
       " 'b2277',\n",
       " 'b2278',\n",
       " 'b2279',\n",
       " 'b2280',\n",
       " 'b2281',\n",
       " 'b2282',\n",
       " 'b2283',\n",
       " 'b2284',\n",
       " 'b2285',\n",
       " 'b2286',\n",
       " 'b2287',\n",
       " 'b2288',\n",
       " 'b2779',\n",
       " 'b2926',\n",
       " 'b3731',\n",
       " 'b3732',\n",
       " 'b3733',\n",
       " 'b3734',\n",
       " 'b3735',\n",
       " 'b3736',\n",
       " 'b3737',\n",
       " 'b3738',\n",
       " 'b3919',\n",
       " 'b4015',\n",
       " 'b4025',\n",
       " 's0001'}"
      ]
     },
     "execution_count": 209,
     "metadata": {},
     "output_type": "execute_result"
    }
   ],
   "source": [
    "ac_essentiality"
   ]
  },
  {
   "cell_type": "code",
   "execution_count": 212,
   "metadata": {},
   "outputs": [
    {
     "data": {
      "text/plain": [
       "{'b0721',\n",
       " 'b0722',\n",
       " 'b0723',\n",
       " 'b0724',\n",
       " 'b2276',\n",
       " 'b2277',\n",
       " 'b2278',\n",
       " 'b2279',\n",
       " 'b2280',\n",
       " 'b2281',\n",
       " 'b2282',\n",
       " 'b2283',\n",
       " 'b2284',\n",
       " 'b2285',\n",
       " 'b2286',\n",
       " 'b2287',\n",
       " 'b2288',\n",
       " 'b3731',\n",
       " 'b3732',\n",
       " 'b3733',\n",
       " 'b3734',\n",
       " 'b3735',\n",
       " 'b3736',\n",
       " 'b3737',\n",
       " 'b3738',\n",
       " 'b3919',\n",
       " 'b4015',\n",
       " 'b4025',\n",
       " 's0001'}"
      ]
     },
     "execution_count": 212,
     "metadata": {},
     "output_type": "execute_result"
    }
   ],
   "source": [
    "difference = ac_essentiality.difference(glc_essentiality) \n",
    "difference"
   ]
  },
  {
   "cell_type": "code",
   "execution_count": null,
   "metadata": {},
   "outputs": [],
   "source": []
  }
 ],
 "metadata": {
  "kernelspec": {
   "display_name": "Python 3",
   "language": "python",
   "name": "python3"
  },
  "language_info": {
   "codemirror_mode": {
    "name": "ipython",
    "version": 3
   },
   "file_extension": ".py",
   "mimetype": "text/x-python",
   "name": "python",
   "nbconvert_exporter": "python",
   "pygments_lexer": "ipython3",
   "version": "3.8.5"
  }
 },
 "nbformat": 4,
 "nbformat_minor": 4
}
